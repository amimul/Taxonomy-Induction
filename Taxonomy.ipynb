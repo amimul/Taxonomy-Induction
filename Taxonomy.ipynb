{
 "cells": [
  {
   "cell_type": "markdown",
   "metadata": {},
   "source": [
    "**Taxonomy**"
   ]
  },
  {
   "cell_type": "code",
   "execution_count": 43,
   "metadata": {
    "collapsed": true
   },
   "outputs": [],
   "source": [
    "# base library imports \n",
    "import pandas as pd\n",
    "import matplotlib as mpl\n",
    "import sklearn as sk\n",
    "import numpy as np\n",
    "import matplotlib.pyplot as plt\n",
    "import sklearn.preprocessing as prepro\n",
    "from sklearn.metrics import jaccard_similarity_score\n",
    "\n",
    "%matplotlib inline"
   ]
  },
  {
   "cell_type": "code",
   "execution_count": 2,
   "metadata": {
    "collapsed": false
   },
   "outputs": [],
   "source": [
    "# loading the csv file\n",
    "import os \n",
    "os.getcwd()\n",
    "import logging\n",
    "logging.basicConfig(format='%(asctime)s : %(levelname)s : %(message)s', level=logging.CRITICAL)\n",
    "x_file = 'C:/Users/pc/Documents/taxonomy/epfl_courses_utf8.csv'\n",
    "\n",
    "df = pd.read_csv(x_file, encoding='utf-8')"
   ]
  },
  {
   "cell_type": "code",
   "execution_count": 3,
   "metadata": {
    "collapsed": true
   },
   "outputs": [],
   "source": [
    "# random seed and number of topics\n",
    "seed = 0 \n",
    "num_groupes = 26"
   ]
  },
  {
   "cell_type": "code",
   "execution_count": 4,
   "metadata": {
    "collapsed": false
   },
   "outputs": [
    {
     "data": {
      "text/plain": [
       "Index(['course', 'code', 'description'], dtype='object')"
      ]
     },
     "execution_count": 4,
     "metadata": {},
     "output_type": "execute_result"
    }
   ],
   "source": [
    "df.columns\n"
   ]
  },
  {
   "cell_type": "code",
   "execution_count": 5,
   "metadata": {
    "collapsed": true
   },
   "outputs": [],
   "source": [
    "# adding course titles to descriptions in order to make description comprhensive\n",
    "df['description'] = df['course'] + ' ' + df['description']"
   ]
  },
  {
   "cell_type": "code",
   "execution_count": 6,
   "metadata": {
    "collapsed": false
   },
   "outputs": [
    {
     "data": {
      "text/plain": [
       "0       Accounting for finance The objective of the co...\n",
       "1       Advanced algorithms A first graduate course in...\n",
       "2       Advanced analog and RF integrated circuits des...\n",
       "3       Advanced analog and RF integrated circuits des...\n",
       "4       Advanced analysis I Getting access to the conc...\n",
       "5       Advanced analysis II Getting access to the use...\n",
       "6       Advanced bioengineering methods laboratory Adv...\n",
       "7       Advanced compiler construction Students learn ...\n",
       "8       Advanced composites in engineering structures ...\n",
       "9       Advanced computer architecture The course stud...\n",
       "10      Advanced computer graphics This course covers ...\n",
       "11      Advanced control systems This course covers so...\n",
       "12      Advanced cryptography This course reviews some...\n",
       "13      Advanced derivatives The course covers a wide ...\n",
       "14      Advanced diffusional separation processes Desi...\n",
       "15      Advanced digital communications Digital commun...\n",
       "16      Advanced energetics Methods for the rational u...\n",
       "17      Advanced heat transfer The course will deepen ...\n",
       "18      Advanced information, computation, communicati...\n",
       "19      Advanced information, computation, communicati...\n",
       "20      Advanced lab in Electrical Energy Systems The ...\n",
       "21      Advanced lab in Electrical Engineering This te...\n",
       "22      Advanced lab in Electrical Engineering This te...\n",
       "23      Advanced machine learning This course will pre...\n",
       "24      Advanced materials for photovoltaics and light...\n",
       "25      Advanced MEMS In depth analysis of the operati...\n",
       "26      Advanced metallurgy This course covers advance...\n",
       "27      Advanced methods in computational solid mechan...\n",
       "28      Advanced multiprocessor architecture Multiproc...\n",
       "29      Advanced nanomaterials The course gives a deta...\n",
       "                              ...                        \n",
       "1728    UE M : Espace et lumiËre: le projet d'Èclairag...\n",
       "1729    UE N : Art et architecture: constructing the v...\n",
       "1730    UE O : BÈton. MatiËre de construction In the f...\n",
       "1731    UE P : BÈton. Construction et prÈfabrication I...\n",
       "1732    UE R : Introduction au BIM (Building Informati...\n",
       "1733    UE U : Cartography This teaching unit aims to ...\n",
       "1734                                                  NaN\n",
       "1735    UE W: Reading construction Students will isola...\n",
       "1736                                                  NaN\n",
       "1737    Understanding modern Switzerland I This course...\n",
       "1738    Understanding modern Switzerland II Based on t...\n",
       "1739    Understanding statistics and experimental desi...\n",
       "1740    Unsupervised and reinforcement learning in neu...\n",
       "1741    Urban hydraulic systems The basic features of ...\n",
       "1742    Urbanisme en Asie The center of gravity of the...\n",
       "1743    Urbanisme et territoires Urban and regional pl...\n",
       "1744    Venture capital The course applies finance too...\n",
       "1745    Ville africaine: introduction ‡ la planificati...\n",
       "1746    Ville et mobilitÈ The course aims to identify ...\n",
       "1747    Villes et transports Describe, analyze, and qu...\n",
       "1748    Virtual reality The goal of VR is to embed the...\n",
       "1749    Visions et Utopies The course explores ideal v...\n",
       "1750    Voies de circulation Traffic facilities as roa...\n",
       "1751    Water and wastewater treatment This course on ...\n",
       "1752    Water quality modeling This course builds on e...\n",
       "1753    Water resources engineering Water resources en...\n",
       "1754    Wave propagation along transmission lines In t...\n",
       "1755                                                  NaN\n",
       "1756    Wireless receivers: algorithms and architectur...\n",
       "1757    Wood structures, properties and uses The prese...\n",
       "Name: description, dtype: object"
      ]
     },
     "execution_count": 6,
     "metadata": {},
     "output_type": "execute_result"
    }
   ],
   "source": [
    "df['description']\n"
   ]
  },
  {
   "cell_type": "code",
   "execution_count": 7,
   "metadata": {
    "collapsed": false
   },
   "outputs": [
    {
     "data": {
      "text/plain": [
       "0                               Accounting for finance\n",
       "1                                  Advanced algorithms\n",
       "2    Advanced analog and RF integrated circuits des...\n",
       "3    Advanced analog and RF integrated circuits des...\n",
       "4                                  Advanced analysis I\n",
       "Name: course, dtype: object"
      ]
     },
     "execution_count": 7,
     "metadata": {},
     "output_type": "execute_result"
    }
   ],
   "source": [
    "df['course'].head()"
   ]
  },
  {
   "cell_type": "code",
   "execution_count": 8,
   "metadata": {
    "collapsed": false
   },
   "outputs": [
    {
     "data": {
      "text/plain": [
       "0     FIN-411\n",
       "1      CS-450\n",
       "2      EE-520\n",
       "3      EE-521\n",
       "4    MATH-400\n",
       "Name: code, dtype: object"
      ]
     },
     "execution_count": 8,
     "metadata": {},
     "output_type": "execute_result"
    }
   ],
   "source": [
    "df['code'].head()"
   ]
  },
  {
   "cell_type": "code",
   "execution_count": 9,
   "metadata": {
    "collapsed": false
   },
   "outputs": [
    {
     "data": {
      "text/plain": [
       "0          FIN\n",
       "1           CS\n",
       "2           EE\n",
       "3           EE\n",
       "4         MATH\n",
       "5         MATH\n",
       "6       BIOENG\n",
       "7           CS\n",
       "8        CIVIL\n",
       "9           CS\n",
       "10          CS\n",
       "11          ME\n",
       "12         COM\n",
       "13         FIN\n",
       "14         ChE\n",
       "15         COM\n",
       "16          ME\n",
       "17          ME\n",
       "18          CS\n",
       "19         COM\n",
       "20          EE\n",
       "21          EE\n",
       "22          EE\n",
       "23       MICRO\n",
       "24          CH\n",
       "25       MICRO\n",
       "26         MSE\n",
       "27       CIVIL\n",
       "28          CS\n",
       "29         MSE\n",
       "         ...  \n",
       "1728        AR\n",
       "1729        AR\n",
       "1730        AR\n",
       "1731        AR\n",
       "1732        AR\n",
       "1733        AR\n",
       "1734        AR\n",
       "1735        AR\n",
       "1736       ETH\n",
       "1737       HUM\n",
       "1738       HUM\n",
       "1739       BIO\n",
       "1740        CS\n",
       "1741     CIVIL\n",
       "1742        AR\n",
       "1743        AR\n",
       "1744       FIN\n",
       "1745        AR\n",
       "1746        AR\n",
       "1747     CIVIL\n",
       "1748        CS\n",
       "1749        AR\n",
       "1750     CIVIL\n",
       "1751       ENV\n",
       "1752       ENG\n",
       "1753       ENV\n",
       "1754        EE\n",
       "1755       ETH\n",
       "1756        EE\n",
       "1757       MSE\n",
       "Name: faculty, dtype: object"
      ]
     },
     "execution_count": 9,
     "metadata": {},
     "output_type": "execute_result"
    }
   ],
   "source": [
    "# extract faculty names from course code\n",
    "df['faculty'] = df['code'].map(lambda x: str(x).split('-', 1)[0])\n",
    "df['faculty']"
   ]
  },
  {
   "cell_type": "code",
   "execution_count": 10,
   "metadata": {
    "collapsed": false
   },
   "outputs": [
    {
     "data": {
      "text/plain": [
       "1758"
      ]
     },
     "execution_count": 10,
     "metadata": {},
     "output_type": "execute_result"
    },
    {
     "data": {
      "image/png": "[encoded data removed]",
      "text/plain": [
       "<matplotlib.figure.Figure at 0xb121350>"
      ]
     },
     "metadata": {},
     "output_type": "display_data"
    }
   ],
   "source": [
    "# Number of subject offered by faculties\n",
    "fig, ax = plt.subplots()\n",
    "df['faculty'].value_counts().plot(ax=ax, kind='bar')\n",
    "df['faculty'].value_counts().sum()"
   ]
  },
  {
   "cell_type": "code",
   "execution_count": 11,
   "metadata": {
    "collapsed": false
   },
   "outputs": [
    {
     "data": {
      "text/plain": [
       "array([14,  6,  9, 17,  2,  4, 18,  5,  7, 20,  3, 21, 11, 13, 16, 24, 15,\n",
       "       19,  0, 22, 23, 25,  1, 10,  8, 12], dtype=int64)"
      ]
     },
     "execution_count": 11,
     "metadata": {},
     "output_type": "execute_result"
    }
   ],
   "source": [
    "# creating unique code  for each faculty\n",
    "df.faculty = pd.Categorical(df.faculty)\n",
    "df['fac_code'] = df.faculty.cat.codes\n",
    "df.fac_code.unique()"
   ]
  },
  {
   "cell_type": "code",
   "execution_count": 12,
   "metadata": {
    "collapsed": false
   },
   "outputs": [
    {
     "data": {
      "text/plain": [
       "<matplotlib.axes._subplots.AxesSubplot at 0xc2b7790>"
      ]
     },
     "execution_count": 12,
     "metadata": {},
     "output_type": "execute_result"
    },
    {
     "data": {
      "image/png": "[encoded data removed]",
      "text/plain": [
       "<matplotlib.figure.Figure at 0xc2c9cd0>"
      ]
     },
     "metadata": {},
     "output_type": "display_data"
    }
   ],
   "source": [
    "# histogram of the faculty codes\n",
    "fig, ax = plt.subplots()\n",
    "df['fac_code'].value_counts().plot(ax=ax, kind='bar')"
   ]
  },
  {
   "cell_type": "code",
   "execution_count": 13,
   "metadata": {
    "collapsed": false
   },
   "outputs": [
    {
     "data": {
      "text/plain": [
       "(1595, 5)"
      ]
     },
     "execution_count": 13,
     "metadata": {},
     "output_type": "execute_result"
    }
   ],
   "source": [
    "# remove rows with null value\n",
    "df_dropna = df.dropna(axis=0, how='any')\n",
    "df_dropna.shape\n"
   ]
  },
  {
   "cell_type": "code",
   "execution_count": 14,
   "metadata": {
    "collapsed": true
   },
   "outputs": [],
   "source": [
    "# extracting each column for further refinement\n",
    "df_name = df_dropna.ix[:,0]\n",
    "df_desc = df_dropna.ix[:,2]\n",
    "df_fac = df_dropna.ix[:,3]\n",
    "df_fac_code = df_dropna.ix[:,4]"
   ]
  },
  {
   "cell_type": "code",
   "execution_count": 15,
   "metadata": {
    "collapsed": true
   },
   "outputs": [],
   "source": [
    "# refining course descriptions by replacing special characters with space\n",
    "df_name_refined = []\n",
    "df_desc_refined = []\n",
    "df_fac_refined = []\n",
    "df_fac_code_refined = []\n",
    "\n",
    "for item in df_fac:\n",
    "    df_fac_refined.append (item)\n",
    "for item in df_name:\n",
    "    df_name_refined.append (item)\n",
    "for item in df_fac_code:\n",
    "    df_fac_code_refined.append (item)\n",
    "for item in df_desc:\n",
    "    df_desc_refined.append (item.replace('\\r',' ').replace('/n',' ').replace('.',' ').replace(',',' ').replace('(',' ')\\\n",
    "                                             .replace(')',' ').replace(\"'s\",' ').replace('\"',' ')\\\n",
    "                                             .replace('!',' ').replace('?',' ').replace(\"'\",' ')\\\n",
    "                                             .replace('>',' ').replace('$',' ')\\\n",
    "                                             .replace('-',' ').replace(';',' ')\\\n",
    "                                             .replace(':',' ').replace('/',' ').replace('#',' '))"
   ]
  },
  {
   "cell_type": "code",
   "execution_count": 16,
   "metadata": {
    "collapsed": false
   },
   "outputs": [
    {
     "data": {
      "text/plain": [
       "1595"
      ]
     },
     "execution_count": 16,
     "metadata": {},
     "output_type": "execute_result"
    }
   ],
   "source": [
    "len(df_desc_refined)\n"
   ]
  },
  {
   "cell_type": "code",
   "execution_count": 17,
   "metadata": {
    "collapsed": false
   },
   "outputs": [
    {
     "name": "stdout",
     "output_type": "stream",
     "text": [
      "Advanced computer graphics : Advanced computer graphics This course covers advanced 3D graphics techniques for realistic image synthesis  Students will learn how light interacts with objects in our world  and how to recreate these phenomena in a computer simulation to create synthetic images that are indistinguishable from photographs  : CS\n"
     ]
    }
   ],
   "source": [
    "#checking\n",
    "i = 10\n",
    "print(df_name_refined[i], ':', df_desc_refined[i], ':', df_fac_refined[i])"
   ]
  },
  {
   "cell_type": "code",
   "execution_count": 18,
   "metadata": {
    "collapsed": false
   },
   "outputs": [
    {
     "name": "stderr",
     "output_type": "stream",
     "text": [
      "C:\\Users\\pc\\Anaconda3\\lib\\site-packages\\gensim\\utils.py:860: UserWarning: detected Windows; aliasing chunkize to chunkize_serial\n",
      "  warnings.warn(\"detected Windows; aliasing chunkize to chunkize_serial\")\n"
     ]
    },
    {
     "name": "stdout",
     "output_type": "stream",
     "text": [
      "original:  Advanced algorithms A first graduate course in algorithms  this course assumes minimal background  but moves rapidly  The objective is to learn the main techniques of algorithm analysis and design  while building a repertory of basic algorithmic solutions to problems in many domains  \n",
      "\n"
     ]
    }
   ],
   "source": [
    "# creating a corpus class with an iterator that reads one corpus document per line without loading all into memory\n",
    "from gensim import corpora\n",
    "from gensim.parsing.preprocessing import STOPWORDS\n",
    "from nltk.stem import WordNetLemmatizer\n",
    "import enchant\n",
    "\n",
    "eng_dic = enchant.Dict(\"en_US\")\n",
    "tester = 1\n",
    "lemmatizer = WordNetLemmatizer()\n",
    "documents = df_desc_refined\n",
    "print ('original: ',documents[tester], '\\n')"
   ]
  },
  {
   "cell_type": "code",
   "execution_count": 19,
   "metadata": {
    "collapsed": false
   },
   "outputs": [
    {
     "name": "stdout",
     "output_type": "stream",
     "text": [
      "tokenize and remove stop words:  ['advanced', 'algorithms', 'graduate', 'course', 'algorithms', 'course', 'assumes', 'minimal', 'background', 'moves', 'rapidly', 'objective', 'learn', 'main', 'techniques', 'algorithm', 'analysis', 'design', 'building', 'repertory', 'basic', 'algorithmic', 'solutions', 'problems', 'domains'] \n",
      "\n"
     ]
    }
   ],
   "source": [
    "# remove stop words and tokenize\n",
    "documents_no_stop = [[word for word in document.lower().split() if word not in STOPWORDS]\n",
    "         for document in documents]\n",
    "\n",
    "print ('tokenize and remove stop words: ',documents_no_stop[tester], '\\n')"
   ]
  },
  {
   "cell_type": "code",
   "execution_count": 20,
   "metadata": {
    "collapsed": false
   },
   "outputs": [
    {
     "name": "stdout",
     "output_type": "stream",
     "text": [
      "remove unique words:  ['advanced', 'algorithms', 'graduate', 'course', 'algorithms', 'course', 'background', 'moves', 'rapidly', 'objective', 'learn', 'main', 'techniques', 'algorithm', 'analysis', 'design', 'building', 'repertory', 'basic', 'algorithmic', 'solutions', 'problems', 'domains'] \n",
      "\n"
     ]
    }
   ],
   "source": [
    "# remove words that appear only once\n",
    "from collections import defaultdict\n",
    "threshold = 1 # frequency threshold\n",
    "frequency = defaultdict(int)\n",
    "for text in documents_no_stop:\n",
    "    for token in text:\n",
    "        frequency[token] += 1\n",
    "\n",
    "documents_no_stop_no_unique = [[token for token in text if frequency[token] > threshold] \n",
    "                               for text in documents_no_stop]\n",
    "\n",
    "print ('remove unique words: ',documents_no_stop_no_unique[tester], '\\n')"
   ]
  },
  {
   "cell_type": "code",
   "execution_count": 24,
   "metadata": {
    "collapsed": false
   },
   "outputs": [
    {
     "name": "stdout",
     "output_type": "stream",
     "text": [
      "remove numerics:  ['advanced', 'algorithms', 'graduate', 'course', 'algorithms', 'course', 'background', 'moves', 'rapidly', 'objective', 'learn', 'main', 'techniques', 'algorithm', 'analysis', 'design', 'building', 'repertory', 'basic', 'algorithmic', 'solutions', 'problems', 'domains'] \n",
      "\n"
     ]
    }
   ],
   "source": [
    "# remove all numerics and tokens with numebrs\n",
    "import re\n",
    "def hasNumbers(inputString):\n",
    "    return bool(re.search(r'\\d', inputString))\n",
    "documents_no_stop_no_unique_no_numeric = [[token for token in text if not (hasNumbers(token)) ] \n",
    "                                          for text in documents_no_stop_no_unique]\n",
    "\n",
    "print ('remove numerics: ',documents_no_stop_no_unique_no_numeric[tester], '\\n')"
   ]
  },
  {
   "cell_type": "code",
   "execution_count": 27,
   "metadata": {
    "collapsed": false
   },
   "outputs": [
    {
     "name": "stdout",
     "output_type": "stream",
     "text": [
      "lemmatize:  ['advanced', 'algorithm', 'graduate', 'course', 'algorithm', 'course', 'background', 'move', 'rapidly', 'objective', 'learn', 'main', 'technique', 'algorithm', 'analysis', 'design', 'building', 'repertory', 'basic', 'algorithmic', 'solution', 'problem', 'domain'] \n",
      "\n"
     ]
    }
   ],
   "source": [
    "# lemmattizing tokens \n",
    "documents_no_stop_no_unique_no_numeric_lemmatize = [[lemmatizer.lemmatize(token) for token in text] \n",
    "                                                    for text in documents_no_stop_no_unique_no_numeric]\n",
    "\n",
    "print ('lemmatize: ',documents_no_stop_no_unique_no_numeric_lemmatize[tester], '\\n')"
   ]
  },
  {
   "cell_type": "code",
   "execution_count": 30,
   "metadata": {
    "collapsed": false
   },
   "outputs": [
    {
     "name": "stdout",
     "output_type": "stream",
     "text": [
      "Only english:  ['advanced', 'algorithm', 'graduate', 'course', 'algorithm', 'course', 'background', 'move', 'rapidly', 'objective', 'learn', 'main', 'technique', 'algorithm', 'analysis', 'design', 'building', 'repertory', 'basic', 'algorithmic', 'solution', 'problem', 'domain'] \n",
      "\n"
     ]
    }
   ],
   "source": [
    "# remove non-english words\n",
    "documents_no_stop_no_unique_no_numeric_lemmatize_english = [[token for token in text if (eng_dic.check(token)) ] \n",
    "                                                            for text in documents_no_stop_no_unique_no_numeric_lemmatize]\n",
    "\n",
    "print ('Only english: ',documents_no_stop_no_unique_no_numeric_lemmatize_english[tester], '\\n')"
   ]
  },
  {
   "cell_type": "code",
   "execution_count": 31,
   "metadata": {
    "collapsed": false
   },
   "outputs": [
    {
     "name": "stdout",
     "output_type": "stream",
     "text": [
      "1595\n"
     ]
    }
   ],
   "source": [
    "# create ready corpus\n",
    "ready_corpus = documents_no_stop_no_unique_no_numeric_lemmatize_english\n",
    "print (len(ready_corpus))"
   ]
  },
  {
   "cell_type": "code",
   "execution_count": 33,
   "metadata": {
    "collapsed": false
   },
   "outputs": [
    {
     "name": "stdout",
     "output_type": "stream",
     "text": [
      "Dictionary(2146 unique tokens: ['accounting', 'finance', 'objective', 'course', 'provide']...)\n"
     ]
    }
   ],
   "source": [
    "# building custom dictionary and store it to disc for future use\n",
    "dictionary = corpora.Dictionary(ready_corpus)\n",
    "dictionary.save('course_dict.dict') \n",
    "print(dictionary)"
   ]
  },
  {
   "cell_type": "code",
   "execution_count": 34,
   "metadata": {
    "collapsed": false
   },
   "outputs": [
    {
     "name": "stdout",
     "output_type": "stream",
     "text": [
      "{'accounting': 0, 'finance': 1, 'objective': 2, 'course': 3, 'provide': 4, 'participant': 5, 'financial': 6, 'mechanism': 7, 'understanding': 8, 'statement': 9, 'company': 10, 'advanced': 11, 'algorithm': 12, 'graduate': 13, 'background': 14, 'move': 15, 'rapidly': 16, 'learn': 17, 'main': 18, 'technique': 19, 'analysis': 20, 'design': 21, 'building': 22, 'repertory': 23, 'basic': 24, 'algorithmic': 25, 'solution': 26, 'problem': 27, 'domain': 28, 'analog': 29, 'integrated': 30, 'circuit': 31, 'cover': 32, 'focusing': 33, 'switched': 34, 'continuous': 35, 'time': 36, 'filter': 37, 'able': 38, 'starting': 39, 'specification': 40, 'choosing': 41, 'appropriate': 42, 'ii': 43, 'component': 44, 'required': 45, 'build': 46, 'radio': 47, 'implemented': 48, 'technology': 49, 'understand': 50, 'getting': 51, 'access': 52, 'concept': 53, 'measure': 54, 'probability': 55, 'integral': 56, 'idea': 57, 'use': 58, 'space': 59, 'series': 60, 'distribution': 61, 'bioengineering': 62, 'method': 63, 'laboratory': 64, 'offer': 65, 'practice': 66, 'data': 67, 'active': 68, 'session': 69, 'present': 70, 'variety': 71, 'employed': 72, 'field': 73, 'quantitative': 74, 'technological': 75, 'based': 76, 'approach': 77, 'compiler': 78, 'construction': 79, 'student': 80, 'implementation': 81, 'modern': 82, 'functional': 83, 'object': 84, 'oriented': 85, 'programming': 86, 'language': 87, 'developing': 88, 'key': 89, 'part': 90, 'run': 91, 'simple': 92, 'composite': 93, 'engineering': 94, 'structure': 95, 'introduce': 96, 'topic': 97, 'property': 98, 'processing': 99, 'mechanical': 100, 'behavior': 101, 'characterization': 102, 'structural': 103, 'reinforced': 104, 'help': 105, 'develop': 106, 'research': 107, 'skill': 108, 'independent': 109, 'architecture': 110, 'study': 111, 'important': 112, 'instruction': 113, 'level': 114, 'parallelism': 115, 'discus': 116, 'relation': 117, 'critical': 118, 'phase': 119, 'compilation': 120, 'emerging': 121, 'class': 122, 'complex': 123, 'single': 124, 'chip': 125, 'system': 126, 'graphic': 127, 'realistic': 128, 'image': 129, 'synthesis': 130, 'light': 131, 'world': 132, 'phenomenon': 133, 'simulation': 134, 'create': 135, 'synthetic': 136, 'control': 137, 'theoretical': 138, 'practical': 139, 'aspect': 140, 'robust': 141, 'adaptive': 142, 'controller': 143, 'h': 144, 'performance': 145, 'digital': 146, 'placement': 147, 'direct': 148, 'indirect': 149, 'studied': 150, 'hand': 151, 'lab': 152, 'cryptography': 153, 'review': 154, 'failure': 155, 'case': 156, 'public': 157, 'introduces': 158, 'cryptanalysis': 159, 'fundamental': 160, 'interactive': 161, 'proof': 162, 'finally': 163, 'validate': 164, 'security': 165, 'cryptographic': 166, 'primitive': 167, 'derivative': 168, 'wide': 169, 'range': 170, 'pricing': 171, 'separation': 172, 'process': 173, 'selected': 174, 'gas': 175, 'absorption': 176, 'stripping': 177, 'distillation': 178, 'mass': 179, 'transfer': 180, 'communication': 181, 'information': 182, 'age': 183, 'example': 184, 'include': 185, 'high': 186, 'speed': 187, 'wireless': 188, 'network': 189, 'drive': 190, 'memory': 191, 'tool': 192, 'including': 193, 'energetics': 194, 'rational': 195, 'conversion': 196, 'energy': 197, 'industrial': 198, 'usage': 199, 'calculate': 200, 'heat': 201, 'define': 202, 'integrate': 203, 'pump': 204, 'unit': 205, 'deepen': 206, 'particular': 207, 'focus': 208, 'convective': 209, 'radiative': 210, 'computational': 211, 'solve': 212, 'coupled': 213, 'computation': 214, 'discrete': 215, 'mathematics': 216, 'discipline': 217, 'application': 218, 'area': 219, 'provides': 220, 'set': 221, 'science': 222, 'diverse': 223, 'mathematical': 224, 'reasoning': 225, 'thinking': 226, 'text': 227, 'sound': 228, 'source': 229, 'stored': 230, 'protect': 231, 'electrical': 232, 'purpose': 233, 'teaching': 234, 'learned': 235, 'production': 236, 'number': 237, 'place': 238, 'limited': 239, 'contact': 240, 'teacher': 241, 'experimental': 242, 'experience': 243, 'associated': 244, 'orientation': 245, 'experiment': 246, 'belonging': 247, 'machine': 248, 'learning': 249, 'core': 250, 'discovery': 251, 'classification': 252, 'non': 253, 'linear': 254, 'regression': 255, 'material': 256, 'lighting': 257, 'dye': 258, 'sensitized': 259, 'solar': 260, 'cell': 261, 'semiconductor': 262, 'organic': 263, 'emitting': 264, 'diode': 265, 'depth': 266, 'operation': 267, 'principle': 268, 'micro': 269, 'product': 270, 'metal': 271, 'alloy': 272, 'term': 273, 'specific': 274, 'e': 275, 'g': 276, 'base': 277, 'entropy': 278, 'metallic': 279, 'general': 280, 'thermal': 281, 'characteristic': 282, 'solid': 283, 'mechanic': 284, 'know': 285, 'multiprocessor': 286, 'block': 287, 'organization': 288, 'mobile': 289, 'embedded': 290, 'platform': 291, 'cloud': 292, 'computing': 293, 'give': 294, 'detailed': 295, 'physical': 296, 'chemical': 297, 'thermodynamic': 298, 'effect': 299, 'unique': 300, 'second': 301, 'different': 302, 'explained': 303, 'presented': 304, 'imaging': 305, 'magnetic': 306, 'resonance': 307, 'medical': 308, 'multi': 309, 'dimensional': 310, 'liquid': 311, 'biomolecules': 312, 'numerical': 313, 'state': 314, 'art': 315, 'solving': 316, 'ordinary': 317, 'differential': 318, 'equation': 319, 'nonlinear': 320, 'optimization': 321, 'efficient': 322, 'discussed': 323, 'biology': 324, 'natural': 325, 'continuation': 326, 'goal': 327, 'methodology': 328, 'biological': 329, 'theory': 330, 'considered': 331, 'devoted': 332, 'theorem': 333, 'law': 334, 'large': 335, 'central': 336, 'limit': 337, 'martingale': 338, 'dealing': 339, 'explanatory': 340, 'variable': 341, 'normal': 342, 'response': 343, 'satellite': 344, 'positioning': 345, 'acquire': 346, 'track': 347, 'evaluate': 348, 'signal': 349, 'environment': 350, 'monitoring': 351, 'steel': 352, 'seismic': 353, 'beam': 354, 'connection': 355, 'column': 356, 'frame': 357, 'link': 358, 'capacity': 359, 'conventional': 360, 'innovative': 361, 'lateral': 362, 'load': 363, 'econometrics': 364, 'nuclear': 365, 'reactor': 366, 'comprehend': 367, 'applied': 368, 'power': 369, 'fission': 370, 'fusion': 371, 'acquainted': 372, 'plant': 373, 'damage': 374, 'life': 375, 'knowledge': 376, 'spread': 377, 'antenna': 378, 'theoretic': 379, 'channel': 380, 'coding': 381, 'bit': 382, 'modulation': 383, 'aerodynamics': 384, 'fluid': 385, 'dynamic': 386, 'air': 387, 'flow': 388, 'body': 389, 'force': 390, 'moment': 391, 'acting': 392, 'result': 393, 'et': 394, 'static': 395, 'induced': 396, 'excitation': 397, 'motion': 398, 'instability': 399, 'introduction': 400, 'question': 401, 'stake': 402, 'contemporary': 403, 'considering': 404, 'explore': 405, 'theme': 406, 'historical': 407, 'pollution': 408, 'climate': 409, 'change': 410, 'survey': 411, 'describing': 412, 'origin': 413, 'algebraic': 414, 'curve': 415, 'notion': 416, 'finite': 417, 'scheme': 418, 'elliptic': 419, 'higher': 420, 'aim': 421, 'algebra': 422, 'especially': 423, 'useful': 424, 'prove': 425, 'rigorously': 426, 'subject': 427, 'lie': 428, 'establish': 429, 'induction': 430, 'analyzing': 431, 'elementary': 432, 'major': 433, 'sorting': 434, 'searching': 435, 'graph': 436, 'end': 437, 'territorial': 438, 'development': 439, 'town': 440, 'country': 441, 'planning': 442, 'procedure': 443, 'related': 444, 'project': 445, 'master': 446, 'device': 447, 'bipolar': 448, 'mo': 449, 'underlying': 450, 'correct': 451, 'layout': 452, 'extends': 453, 'completes': 454, 'aided': 455, 'systematic': 456, 'order': 457, 'added': 458, 'complete': 459, 'electronic': 460, 'mixed': 461, 'mode': 462, 'remote': 463, 'designing': 464, 'powered': 465, 'calculus': 466, 'real': 467, 'valued': 468, 'function': 469, 'reverse': 470, 'deduce': 471, 'decision': 472, 'little': 473, 'additional': 474, 'original': 475, 'l': 476, 'evaluation': 477, 'quality': 478, 'river': 479, 'observation': 480, 'sample': 481, 'determination': 482, 'formation': 483, 'cycle': 484, 'vie': 485, 'assessment': 486, 'holistic': 487, 'enabling': 488, 'quantify': 489, 'environmental': 490, 'service': 491, 'mainly': 492, 'treat': 493, 'scientific': 494, 'issue': 495, 'management': 496, 'risk': 497, 'emphasis': 498, 'civil': 499, 'hazard': 500, 'oil': 501, 'pipeline': 502, 'standard': 503, 'perform': 504, 'exploratory': 505, 'opportunity': 506, 'implement': 507, 'statistical': 508, 'software': 509, 'apply': 510, 'directly': 511, 'bounded': 512, 'operator': 513, 'compact': 514, 'spectral': 515, 'open': 516, 'mapping': 517, 'closed': 518, 'convex': 519, 'inductive': 520, 'supported': 521, 'self': 522, 'adjoint': 523, 'iii': 524, 'vector': 525, 'necessary': 526, 'derive': 527, 'model': 528, 'physic': 529, 'classical': 530, 'partial': 531, 'wave': 532, 'view': 533, 'multidisciplinary': 534, 'iv': 535, 'integration': 536, 'infinite': 537, 'transforms': 538, 'formula': 539, 'transform': 540, 'identity': 541, 'relevant': 542, 'differentiation': 543, 'concerned': 544, 'approximation': 545, 'proposes': 546, 'analyzes': 547, 'determine': 548, 'small': 549, 'molecule': 550, 'spectrometry': 551, 'infrared': 552, 'spectroscopy': 553, 'locomotion': 554, 'lecture': 555, 'overview': 556, 'modeling': 557, 'human': 558, 'motor': 559, 'multiple': 560, 'robot': 561, 'ancient': 562, 'degradation': 563, 'introducing': 564, 'investigation': 565, 'ceramic': 566, 'glass': 567, 'introduced': 568, 'group': 569, 'analytic': 570, 'notably': 571, 'paradoxical': 572, 'fixed': 573, 'point': 574, 'decade': 575, 'viewing': 576, 'selection': 577, 'analyze': 578, 'context': 579, 'visualization': 580, 'representation': 581, 'ring': 582, 'corporate': 583, 'industry': 584, 'mentor': 585, 'choose': 586, 'primary': 587, 'teach': 588, 'sense': 589, 'dataset': 590, 'deterministic': 591, 'highly': 592, 'exposed': 593, 'address': 594, 'creativity': 595, 'support': 596, 'making': 597, 'ability': 598, 'molecular': 599, 'quantum': 600, 'chemistry': 601, 'allowing': 602, 'reaction': 603, 'spectroscopic': 604, 'ion': 605, 'stochastic': 606, 'random': 607, 'popular': 608, 'chain': 609, 'renewal': 610, 'illustrated': 611, 'wastewater': 612, 'treatment': 613, 'water': 614, 'emission': 615, 'generated': 616, 'furthermore': 617, 'installation': 618, 'module': 619, 'framework': 620, 'certain': 621, 'constraint': 622, 'cognitive': 623, 'functioning': 624, 'relationship': 625, 'aquatic': 626, 'ecosystem': 627, 'inland': 628, 'player': 629, 'global': 630, 'essential': 631, 'fresh': 632, 'atmospheric': 633, 'existing': 634, 'intervention': 635, 'realized': 636, 'want': 637, 'definition': 638, 'operative': 639, 'strategy': 640, 'special': 641, 'technical': 642, 'thorough': 643, 'work': 644, 'creative': 645, 'continues': 646, 'hierarchy': 647, 'optimal': 648, 'la': 649, 'ville': 650, 'disciplinary': 651, 'clarify': 652, 'articulation': 653, 'scale': 654, 'city': 655, 'territory': 656, 'constitution': 657, 'character': 658, 'site': 659, 'infrastructure': 660, 'element': 661, 'common': 662, 'critically': 663, 'proposed': 664, 'testing': 665, 'concrete': 666, 'period': 667, 'history': 668, 'renaissance': 669, 'today': 670, 'twentieth': 671, 'century': 672, 'cultural': 673, 'heritage': 674, 'artificial': 675, 'intended': 676, 'familiar': 677, 'influence': 678, 'efficiency': 679, 'landscape': 680, 'way': 681, 'concern': 682, 'strongly': 683, 'going': 684, 'affect': 685, 'emerged': 686, 'culture': 687, 'society': 688, 'china': 689, 'japan': 690, 'current': 691, 'historic': 692, 'comparative': 693, 'perspective': 694, 'assembly': 695, 'homogeneous': 696, 'heterogeneous': 697, 'joint': 698, 'bonding': 699, 'resistance': 700, 'astrophysics': 701, 'stellar': 702, 'dynamical': 703, 'equilibrium': 704, 'evolution': 705, 'star': 706, 'cluster': 707, 'observational': 708, 'cosmology': 709, 'universe': 710, 'describes': 711, 'principal': 712, 'seen': 713, 'needed': 714, 'interpret': 715, 'spectrum': 716, 'astrophysical': 717, 'perception': 718, 'covering': 719, 'broad': 720, 'picture': 721, 'live': 722, 'measurement': 723, 'electromagnetic': 724, 'microscopic': 725, 'interaction': 726, 'atom': 727, 'radiation': 728, 'electron': 729, 'factor': 730, 'responsible': 731, 'bond': 732, 'atomistic': 733, 'predict': 734, 'audio': 735, 'room': 736, 'acoustic': 737, 'microphone': 738, 'virtual': 739, 'automatic': 740, 'speech': 741, 'formalism': 742, 'recognition': 743, 'controlled': 744, 'tech': 745, 'marketing': 746, 'business': 747, 'market': 748, 'kind': 749, 'integrating': 750, 'innovation': 751, 'entrepreneurial': 752, 'value': 753, 'act': 754, 'turbulence': 755, 'dam': 756, 'built': 757, 'man': 758, 'supply': 759, 'robotics': 760, 'serial': 761, 'parallel': 762, 'sensor': 763, 'kinematics': 764, 'linked': 765, 'analytical': 766, 'instrumental': 767, 'biochemical': 768, 'highlight': 769, 'similarity': 770, 'difference': 771, 'fermentation': 772, 'purification': 773, 'downstream': 774, 'biochemistry': 775, 'pathway': 776, 'metabolism': 777, 'cellular': 778, 'genetic': 779, 'regulation': 780, 'organism': 781, 'protein': 782, 'carbohydrate': 783, 'lipid': 784, 'implantable': 785, 'biomedical': 786, 'microelectronics': 787, 'microelectronic': 788, 'milieu': 789, 'demonstrate': 790, 'role': 791, 'vegetation': 792, 'stream': 793, 'restoration': 794, 'coordination': 795, 'status': 796, 'homeostasis': 797, 'deeper': 798, 'post': 799, 'translational': 800, 'neural': 801, 'neuron': 802, 'cognition': 803, 'update': 804, 'acquisition': 805, 'engineer': 806, 'effort': 807, 'placed': 808, 'diversity': 809, 'living': 810, 'particularly': 811, 'biosphere': 812, 'gene': 813, 'expression': 814, 'genome': 815, 'activity': 816, 'need': 817, 'tissue': 818, 'given': 819, 'aimed': 820, 'familiarize': 821, 'compartment': 822, 'communicate': 823, 'structured': 824, 'storage': 825, 'transmission': 826, 'completing': 827, 'specie': 828, 'explaining': 829, 'governing': 830, 'designed': 831, 'pour': 832, 'implant': 833, 'regulatory': 834, 'cardiovascular': 835, 'anatomy': 836, 'physiology': 837, 'biophysics': 838, 'basis': 839, 'description': 840, 'covered': 841, 'optic': 842, 'optical': 843, 'illustrative': 844, 'diagnostic': 845, 'therapeutic': 846, 'medicine': 847, 'described': 848, 'commonly': 849, 'transversal': 850, 'introductory': 851, 'section': 852, 'geometrical': 853, 'microscope': 854, 'advantage': 855, 'limitation': 856, 'type': 857, 'best': 858, 'suited': 859, 'microscopy': 860, 'investigate': 861, 'obtain': 862, 'nature': 863, 'mineral': 864, 'earth': 865, 'remediation': 866, 'defining': 867, 'practiced': 868, 'interface': 869, 'minimum': 870, 'feature': 871, 'predictive': 872, 'shape': 873, 'generation': 874, 'coverage': 875, 'shall': 876, 'benefit': 877, 'pharmaceutical': 878, 'biostatistics': 879, 'statistic': 880, 'typical': 881, 'despite': 882, 'abstract': 883, 'biotechnology': 884, 'clone': 885, 'plasmid': 886, 'produce': 887, 'mammalian': 888, 'purify': 889, 'recombinant': 890, 'characterize': 891, 'biochemically': 892, 'brain': 893, 'aiming': 894, 'capability': 895, 'people': 896, 'insight': 897, 'philosophy': 898, 'psychology': 899, 'choice': 900, 'fieldwork': 901, 'outside': 902, 'reading': 903, 'variation': 904, 'cancer': 905, 'stability': 906, 'tumor': 907, 'inflammation': 908, 'immune': 909, 'stem': 910, 'electronics': 911, 'complexity': 912, 'old': 913, 'year': 914, 'spatial': 915, 'urban': 916, 'style': 917, 'catalysis': 918, 'protection': 919, 'catalytic': 920, 'internal': 921, 'combustion': 922, 'engine': 923, 'gaseous': 924, 'fuel': 925, 'renewable': 926, 'hydrogen': 927, 'reduction': 928, 'catalyst': 929, 'explain': 930, 'mechanistic': 931, 'carbon': 932, 'asymmetric': 933, 'd': 934, 'thesis': 935, 'training': 936, 'presentation': 937, 'action': 938, 'involved': 939, 'temporal': 940, 'dimension': 941, 'condition': 942, 'discussion': 943, 'topical': 944, 'guided': 945, 'literature': 946, 'prepare': 947, 'crystal': 948, 'defect': 949, 'electromechanical': 950, 'investigated': 951, 'analyzed': 952, 'interpreted': 953, 'cause': 954, 'social': 955, 'mental': 956, 'paper': 957, 'drug': 958, 'ranging': 959, 'dissect': 960, 'encountered': 961, 'carried': 962, 'week': 963, 'close': 964, 'allow': 965, 'kinetics': 966, 'test': 967, 'rate': 968, 'derivation': 969, 'exact': 970, 'approximate': 971, 'transition': 972, 'thermodynamics': 973, 'enables': 974, 'balance': 975, 's': 976, 'p': 977, 'periodic': 978, 'food': 979, 'deliver': 980, 'occurring': 981, 'manufacturing': 982, 'transformation': 983, 'raw': 984, 'challenge': 985, 'consider': 986, 'available': 987, 'illustrate': 988, 'qualitative': 989, 'constituent': 990, 'surface': 991, 'aux': 992, 'composition': 993, 'contamination': 994, 'matter': 995, 'reactivity': 996, 'exercise': 997, 'calculation': 998, 'novel': 999, 'inorganic': 1000, 'developed': 1001, 'compound': 1002, 'physique': 1003, 'colloidal': 1004, 'step': 1005, 'safety': 1006, 'organometallic': 1007, 'followed': 1008, 'manipulation': 1009, 'carry': 1010, 'chine': 1011, 'ago': 1012, 'changing': 1013, 'war': 1014, 'day': 1015, 'b': 1016, 'position': 1017, 'national': 1018, 'invention': 1019, 'foreign': 1020, 'policy': 1021, 'increasing': 1022, 'emergence': 1023, 'o': 1024, 'internationalization': 1025, 'realize': 1026, 'interview': 1027, 'semester': 1028, 'write': 1029, 'invariant': 1030, 'serve': 1031, 'reality': 1032, 'engineered': 1033, 'an': 1034, 'electrodynamics': 1035, 'consequence': 1036, 'maxwell': 1037, 'nurture': 1038, 'extreme': 1039, 'debate': 1040, 'ongoing': 1041, 'empirical': 1042, 'supporting': 1043, 'ass': 1044, 'deal': 1045, 'architectural': 1046, 'problematics': 1047, 'diagram': 1048, 'phenomenology': 1049, 'combinatorial': 1050, 'guiding': 1051, 'efficiently': 1052, 'select': 1053, 'aide': 1054, 'program': 1055, 'geometric': 1056, 'feedback': 1057, 'pencil': 1058, 'commutative': 1059, 'vital': 1060, 'foundation': 1061, 'geometry': 1062, 'economics': 1063, 'evidence': 1064, 'working': 1065, 'like': 1066, 'transistor': 1067, 'voltage': 1068, 'amplifier': 1069, 'matrix': 1070, 'transport': 1071, 'cost': 1072, 'new': 1073, 'team': 1074, 'frequently': 1075, 'typically': 1076, 'arise': 1077, 'suitable': 1078, 'solver': 1079, 'dependent': 1080, 'density': 1081, 'version': 1082, 'adiabatic': 1083, 'movement': 1084, 'photography': 1085, 'gain': 1086, 'allows': 1087, 'visual': 1088, 'execute': 1089, 'mean': 1090, 'medium': 1091, 'integrates': 1092, 'multimedia': 1093, 'content': 1094, 'individual': 1095, 'cad': 1096, 'exchange': 1097, 'interpreting': 1098, 'illustrates': 1099, 'diffusion': 1100, 'vision': 1101, 'acquired': 1102, 'video': 1103, 'camera': 1104, 'applicability': 1105, 'conception': 1106, 'develops': 1107, 'dimensioning': 1108, 'originates': 1109, 'road': 1110, 'bridge': 1111, 'focused': 1112, 'criterion': 1113, 'situation': 1114, 'hardware': 1115, 'combinational': 1116, 'sequential': 1117, 'verification': 1118, 'custom': 1119, 'behavioral': 1120, 'written': 1121, 'en': 1122, 'performing': 1123, 'impact': 1124, 'managing': 1125, 'maintenance': 1126, 'adequate': 1127, 'early': 1128, 'reduce': 1129, 'parameter': 1130, 'x': 1131, 'require': 1132, 'ecological': 1133, 'applicable': 1134, 'outcome': 1135, 'depends': 1136, 'local': 1137, 'scope': 1138, 'sensitize': 1139, 'consideration': 1140, 'masterpiece': 1141, 'fabricate': 1142, 'representing': 1143, 'fragment': 1144, 'detail': 1145, 'concurrent': 1146, 'advent': 1147, 'crucial': 1148, 'concurrency': 1149, 'enable': 1150, 'comfort': 1151, 'suggests': 1152, 'passive': 1153, 'low': 1154, 'ensure': 1155, 'possible': 1156, 'wood': 1157, 'interesting': 1158, 'bearing': 1159, 'envelope': 1160, 'opening': 1161, 'equipment': 1162, 'facility': 1163, 'coherent': 1164, 'sustainable': 1165, 'constructive': 1166, 'realization': 1167, 'intention': 1168, 'expressive': 1169, 'technically': 1170, 'viable': 1171, 'according': 1172, 'v': 1173, 'sustainability': 1174, 'vi': 1175, 'gm': 1176, 'creation': 1177, 'document': 1178, 'relating': 1179, 'drawing': 1180, 'electronically': 1181, 'plan': 1182, 'mt': 1183, 'fate': 1184, 'potential': 1185, 'prevention': 1186, 'coupling': 1187, 'education': 1188, 'known': 1189, 'show': 1190, 'providing': 1191, 'reference': 1192, 'electricity': 1193, 'quantity': 1194, 'external': 1195, 'electric': 1196, 'chose': 1197, 'assimilate': 1198, 'convexity': 1199, 'ramification': 1200, 'economic': 1201, 'resource': 1202, 'try': 1203, 'face': 1204, 'manner': 1205, 'examine': 1206, 'faced': 1207, 'concentrate': 1208, 'poverty': 1209, 'entrepreneurship': 1210, 'symmetry': 1211, 'f': 1212, 'governance': 1213, 'firm': 1214, 'successful': 1215, 'manager': 1216, 'competition': 1217, 'corrosion': 1218, 'familiarizing': 1219, 'form': 1220, 'credit': 1221, 'institutional': 1222, 'correlation': 1223, 'portfolio': 1224, 'recent': 1225, 'crisis': 1226, 'durable': 1227, 'examines': 1228, 'growth': 1229, 'population': 1230, 'growing': 1231, 'crystallography': 1232, 'diffraction': 1233, 'widely': 1234, 'intends': 1235, 'methodological': 1236, 'sociological': 1237, 'sport': 1238, 'think': 1239, 'following': 1240, 'database': 1241, 'publication': 1242, 'converter': 1243, 'better': 1244, 'transportation': 1245, 'demand': 1246, 'dismantling': 1247, 'segmentation': 1248, 'deformation': 1249, 'elasticity': 1250, 'plasticity': 1251, 'mid': 1252, 'valuation': 1253, 'hedging': 1254, 'option': 1255, 'contract': 1256, 'future': 1257, 'conceptual': 1258, 'setup': 1259, 'web': 1260, 'consists': 1261, 'convention': 1262, 'acquiring': 1263, 'confronting': 1264, 'prototype': 1265, 'collaboration': 1266, 'artisan': 1267, 'transforming': 1268, 'specialized': 1269, 'logic': 1270, 'implication': 1271, 'green': 1272, 'economy': 1273, 'faculty': 1274, 'task': 1275, 'preparation': 1276, 'lesson': 1277, 'tube': 1278, 'difficult': 1279, 'double': 1280, 'architect': 1281, 'past': 1282, 'story': 1283, 'accumulated': 1284, 'interpretation': 1285, 'obtained': 1286, 'follows': 1287, 'fabrication': 1288, 'pattern': 1289, 'quantification': 1290, 'aware': 1291, 'avoid': 1292, 'analytics': 1293, 'laid': 1294, 'later': 1295, 'strong': 1296, 'formal': 1297, 'discrimination': 1298, 'travail': 1299, 'inequality': 1300, 'actor': 1301, 'bulk': 1302, 'tunnel': 1303, 'distributed': 1304, 'reliable': 1305, 'intelligent': 1306, 'taking': 1307, 'account': 1308, 'presence': 1309, 'private': 1310, 'majority': 1311, 'professional': 1312, 'capable': 1313, 'organizing': 1314, 'complementary': 1315, 'familiarizes': 1316, 'legal': 1317, 'awareness': 1318, 'profession': 1319, 'junction': 1320, 'ethic': 1321, 'identification': 1322, 'rule': 1323, 'ecology': 1324, 'genetics': 1325, 'engage': 1326, 'tackle': 1327, 'centered': 1328, 'interdisciplinary': 1329, 'frequency': 1330, 'resultant': 1331, 'stress': 1332, 'kinematic': 1333, 'get': 1334, 'extraction': 1335, 'politic': 1336, 'requires': 1337, 'asked': 1338, 'scientist': 1339, 'detection': 1340, 'competence': 1341, 'strategic': 1342, 'short': 1343, 'follow': 1344, 'leading': 1345, 'waste': 1346, 'integrative': 1347, 'great': 1348, 'multivariate': 1349, 'prepares': 1350, 'dedicated': 1351, 'r': 1352, 'morphology': 1353, 'habitat': 1354, 'regime': 1355, 'take': 1356, 'inference': 1357, 'intellectual': 1358, 'explores': 1359, 'us': 1360, 'microeconomic': 1361, 'sector': 1362, 'price': 1363, 'disease': 1364, 'geography': 1365, 'international': 1366, 'big': 1367, 'socio': 1368, 'loosing': 1369, 'sight': 1370, 'article': 1371, 'economical': 1372, 'defined': 1373, 'hydraulic': 1374, 'financing': 1375, 'expose': 1376, 'agriculture': 1377, 'community': 1378, 'respective': 1379, 'learns': 1380, 'colloid': 1381, 'forming': 1382, 'ground': 1383, 'electrochemical': 1384, 'requirement': 1385, 'charge': 1386, 'steady': 1387, 'compatibility': 1388, 'vehicle': 1389, 'transmitting': 1390, 'polyatomic': 1391, 'ultraviolet': 1392, 'visible': 1393, 'operational': 1394, 'discover': 1395, 'ac': 1396, 'abstraction': 1397, 'comparison': 1398, 'composed': 1399, 'alternate': 1400, 'treated': 1401, 'brought': 1402, 'transient': 1403, 'demonstration': 1404, 'identify': 1405, 'possibility': 1406, 'programmable': 1407, 'c': 1408, 'user': 1409, 'modeled': 1410, 'size': 1411, 'comprehensive': 1412, 'considers': 1413, 'importance': 1414, 'bring': 1415, 'addition': 1416, 'exploration': 1417, 'deep': 1418, 'geothermal': 1419, 'geological': 1420, 'internship': 1421, 'credited': 1422, 'operating': 1423, 'compare': 1424, 'confronted': 1425, 'ethical': 1426, 'controversial': 1427, 'conflict': 1428, 'societal': 1429, 'south': 1430, 'nutrition': 1431, 'health': 1432, 'prediction': 1433, 'biodiversity': 1434, 'target': 1435, 'privacy': 1436, 'sociology': 1437, 'political': 1438, 'combination': 1439, 'overall': 1440, 'mobility': 1441, 'logistics': 1442, 'infectious': 1443, 'answer': 1444, 'contribute': 1445, 'constitute': 1446, 'initial': 1447, 'stage': 1448, 'lay': 1449, 'setting': 1450, 'thematic': 1451, 'clearly': 1452, 'accurately': 1453, 'addressed': 1454, 'taught': 1455, 'commercialization': 1456, 'thanks': 1457, 'entrepreneur': 1458, 'venture': 1459, 'adopting': 1460, 'establishing': 1461, 'includes': 1462, 'manage': 1463, 'turbulent': 1464, 'dispersion': 1465, 'w': 1466, 'pollutant': 1467, 'existence': 1468, 'controlling': 1469, 'topology': 1470, 'retaining': 1471, 'wall': 1472, 'right': 1473, 'integrity': 1474, 'reflect': 1475, 'personal': 1476, 'politics': 1477, 'concerning': 1478, 'argument': 1479, 'chapter': 1480, 'musicales': 1481, 'pursuing': 1482, 'music': 1483, 'instrument': 1484, 'validation': 1485, 'inspired': 1486, 'report': 1487, 'trendy': 1488, 'conducted': 1489, 'inform': 1490, 'linking': 1491, 'exploitation': 1492, 'railway': 1493, 'train': 1494, 'degraded': 1495, 'par': 1496, 'formulation': 1497, 'figuration': 1498, 'chance': 1499, 'broach': 1500, 'initiation': 1501, 'lead': 1502, 'applying': 1503, 'emphasized': 1504, 'investor': 1505, 'evaluating': 1506, 'income': 1507, 'flexible': 1508, 'manufacture': 1509, 'display': 1510, 'effectively': 1511, 'relate': 1512, 'land': 1513, 'housing': 1514, 'determinant': 1515, 'syntax': 1516, 'semantics': 1517, 'fracture': 1518, 'acquires': 1519, 'weight': 1520, 'crack': 1521, 'displacement': 1522, 'j': 1523, 'fatigue': 1524, 'propagation': 1525, 'frontier': 1526, 'vivo': 1527, 'carrying': 1528, 'refer': 1529, 'meant': 1530, 'dig': 1531, 'therapy': 1532, 'advance': 1533, 'traffic': 1534, 'start': 1535, 'electromagnetism': 1536, 'visit': 1537, 'sequence': 1538, 'location': 1539, 'planet': 1540, 'atmosphere': 1541, 'rock': 1542, 'groundwater': 1543, 'soil': 1544, 'hyperbolic': 1545, 'manifold': 1546, 'look': 1547, 'map': 1548, 'combining': 1549, 'parametric': 1550, 'projective': 1551, 'aerial': 1552, 'laser': 1553, 'maintain': 1554, 'geophysical': 1555, 'represent': 1556, 'subsurface': 1557, 'geographical': 1558, 'long': 1559, 'peculiarity': 1560, 'cartography': 1561, 'estimate': 1562, 'corporation': 1563, 'administration': 1564, 'profit': 1565, 'leadership': 1566, 'good': 1567, 'evolve': 1568, 'contribution': 1569, 'investment': 1570, 'output': 1571, 'lens': 1572, 'geopolitics': 1573, 'foster': 1574, 'geographic': 1575, 'east': 1576, 'urbanization': 1577, 'inhabitant': 1578, 'residential': 1579, 'noise': 1580, 'tackled': 1581, 'represents': 1582, 'mar': 1583, 'rest': 1584, 'am': 1585, 'harmonic': 1586, 'convergence': 1587, 'hf': 1588, 'vhf': 1589, 'tell': 1590, 'll': 1591, 'archive': 1592, 'swiss': 1593, 'thought': 1594, 'go': 1595, 'giving': 1596, 'heir': 1597, 'genesis': 1598, 'eastern': 1599, 'wealth': 1600, 'imperative': 1601, 'realm': 1602, 'author': 1603, 'studying': 1604, 'contextual': 1605, 'looking': 1606, 'nineteenth': 1607, 'eighteenth': 1608, 'success': 1609, 'confrontation': 1610, 'cold': 1611, 'attention': 1612, 'border': 1613, 'artistic': 1614, 'dispute': 1615, 'exhibition': 1616, 'seminar': 1617, 'list': 1618, 'workshop': 1619, 'sphere': 1620, 'western': 1621, 'event': 1622, 'shed': 1623, 'interest': 1624, 'determined': 1625, 'shared': 1626, 'organizational': 1627, 'prosthetics': 1628, 'hybrid': 1629, 'workplace': 1630, 'experienced': 1631, 'humanitarian': 1632, 'panorama': 1633, 'humanity': 1634, 'presenting': 1635, 'combine': 1636, 'press': 1637, 'processed': 1638, 'extensive': 1639, 'turbine': 1640, 'hydraulics': 1641, 'hydrodynamics': 1642, 'stokes': 1643, 'depending': 1644, 'hydrodynamic': 1645, 'hydroelectric': 1646, 'addressing': 1647, 'pertinent': 1648, 'hydrology': 1649, 'discharge': 1650, 'flood': 1651, 'hydrological': 1652, 'generating': 1653, 'pumping': 1654, 'detailing': 1655, 'estimation': 1656, 'compression': 1657, 'mini': 1658, 'prototyping': 1659, 'sensing': 1660, 'extract': 1661, 'plurality': 1662, 'appearance': 1663, 'called': 1664, 'play': 1665, 'opposition': 1666, 'oral': 1667, 'incompressible': 1668, 'automation': 1669, 'grid': 1670, 'connected': 1671, 'coordinate': 1672, 'trend': 1673, 'performs': 1674, 'undertakes': 1675, 'id': 1676, 'sampling': 1677, 'encounter': 1678, 'uncertainty': 1679, 'govern': 1680, 'completion': 1681, 'commercial': 1682, 'involves': 1683, 'gnu': 1684, 'octave': 1685, 'brief': 1686, 'facet': 1687, 'effective': 1688, 'collection': 1689, 'clinical': 1690, 'informatics': 1691, 'waveguide': 1692, 'intelligence': 1693, 'complemented': 1694, 'agent': 1695, 'implementing': 1696, 'game': 1697, 'macromolecule': 1698, 'depend': 1699, 'networking': 1700, 'search': 1701, 'advertisement': 1702, 'pointing': 1703, 'urbanity': 1704, 'emphasizing': 1705, 'relative': 1706, 'correlated': 1707, 'rich': 1708, 'compute': 1709, 'specificity': 1710, 'particle': 1711, 'book': 1712, 'm': 1713, 'school': 1714, 'coefficient': 1715, 'ideal': 1716, 'curriculum': 1717, 'bachelor': 1718, 'approached': 1719, 'constructed': 1720, 'final': 1721, 'met': 1722, 'root': 1723, 'observable': 1724, 'free': 1725, 'arriving': 1726, 'epitaxy': 1727, 'film': 1728, 'grown': 1729, 'explains': 1730, 'perturbation': 1731, 'minor': 1732, 'capital': 1733, 'budgeting': 1734, 'asset': 1735, 'functionality': 1736, 'wind': 1737, 'oncology': 1738, 'exciting': 1739, 'accelerator': 1740, 'driven': 1741, 'relevance': 1742, 'macroscopic': 1743, 'momentum': 1744, 'investing': 1745, 'guide': 1746, 'make': 1747, 'share': 1748, 'emphasizes': 1749, 'immersion': 1750, 'academic': 1751, 'emphasize': 1752, 'experimentation': 1753, 'telecommunication': 1754, 'microwave': 1755, 'animal': 1756, 'screening': 1757, 'proper': 1758, 'histology': 1759, 'android': 1760, 'provided': 1761, 'apparatus': 1762, 'applies': 1763, 'competency': 1764, 'supervision': 1765, 'vacuum': 1766, 'cryogenics': 1767, 'sol': 1768, 'raise': 1769, 'semi': 1770, 'questionnaire': 1771, 'documentary': 1772, 'lattice': 1773, 'mathematically': 1774, 'representative': 1775, 'microbiology': 1776, 'alpine': 1777, 'microbial': 1778, 'genre': 1779, 'situated': 1780, 'represented': 1781, 'fashion': 1782, 'package': 1783, 'periphery': 1784, 'interacting': 1785, 'stakeholder': 1786, 'realism': 1787, 'polymer': 1788, 'improve': 1789, 'measuring': 1790, 'reservoir': 1791, 'navigation': 1792, 'customer': 1793, 'macroeconomic': 1794, 'explicitly': 1795, 'emotional': 1796, 'regulating': 1797, 'collaborative': 1798, 'walk': 1799, 'optional': 1800, 'writes': 1801, 'clean': 1802, 'deposition': 1803, 'propose': 1804, 'previously': 1805, 'conservation': 1806, 'intuitive': 1807, 'heart': 1808, 'rigor': 1809, 'physicist': 1810, 'complement': 1811, 'trigonometric': 1812, 'infinitesimal': 1813, 'polynomial': 1814, 'literary': 1815, 'interact': 1816, 'temperature': 1817, 'humidity': 1818, 'strain': 1819, 'expansion': 1820, 'tensor': 1821, 'constitutive': 1822, 'elastic': 1823, 'continuum': 1824, 'conditioning': 1825, 'strength': 1826, 'buckling': 1827, 'tension': 1828, 'bending': 1829, 'shear': 1830, 'torsion': 1831, 'isostatic': 1832, 'subjected': 1833, 'rupture': 1834, 'synthesize': 1835, 'actuator': 1836, 'fiber': 1837, 'professor': 1838, 'taken': 1839, 'ionizing': 1840, 'grand': 1841, 'mythes': 1842, 'myth': 1843, 'biblical': 1844, 'exploring': 1845, 'meaning': 1846, 'reception': 1847, 'finis': 1848, 'extended': 1849, 'rigorous': 1850, 'additive': 1851, 'chosen': 1852, 'mastering': 1853, 'annual': 1854, 'microorganism': 1855, 'microprocessor': 1856, 'protocol': 1857, 'explanation': 1858, 'n': 1859, 'scattering': 1860, 'autonomous': 1861, 'localization': 1862, 'animation': 1863, 'movie': 1864, 'purely': 1865, 'interpolation': 1866, 'resolution': 1867, 'biophysic': 1868, 'biophysical': 1869, 'kinetic': 1870, 'held': 1871, 'established': 1872, 'path': 1873, 'specifically': 1874, 'career': 1875, 'consisting': 1876, 'recount': 1877, 'improvisation': 1878, 'musical': 1879, 'writing': 1880, 'educational': 1881, 'jazz': 1882, 'occupies': 1883, 'classic': 1884, 'concerto': 1885, 'repertoire': 1886, 'allying': 1887, 'humor': 1888, 'funny': 1889, 'scaling': 1890, 'lower': 1891, 'negotiation': 1892, 'tactic': 1893, 'successfully': 1894, 'specialization': 1895, 'synaptic': 1896, 'ultimately': 1897, 'nervous': 1898, 'begin': 1899, 'personalized': 1900, 'code': 1901, 'plasma': 1902, 'arising': 1903, 'verify': 1904, 'error': 1905, 'parabolic': 1906, 'integrator': 1907, 'volume': 1908, 'essentially': 1909, 'house': 1910, 'detector': 1911, 'confinement': 1912, 'optoelectronic': 1913, 'guidance': 1914, 'assistant': 1915, 'responsibility': 1916, 'accident': 1917, 'motivation': 1918, 'ensuring': 1919, 'sufficient': 1920, 'box': 1921, 'uniqueness': 1922, 'weak': 1923, 'maximum': 1924, 'silicon': 1925, 'studio': 1926, 'increasingly': 1927, 'excellence': 1928, 'pharmacology': 1929, 'encompasses': 1930, 'phenomenological': 1931, 'instance': 1932, 'formulate': 1933, 'defend': 1934, 'newton': 1935, 'epistemology': 1936, 'ontology': 1937, 'transpose': 1938, 'philosophical': 1939, 'conclusion': 1940, 'photochemistry': 1941, 'elevation': 1942, 'situ': 1943, 'quantitatively': 1944, 'snow': 1945, 'nucleus': 1946, 'relativistic': 1947, 'explored': 1948, 'relativity': 1949, 'black': 1950, 'transparent': 1951, 'condensation': 1952, 'conceived': 1953, 'condensed': 1954, 'establishes': 1955, 'atomic': 1956, 'everyday': 1957, 'angular': 1958, 'adjustment': 1959, 'morphological': 1960, 'powder': 1961, 'drawn': 1962, 'staging': 1963, 'moving': 1964, 'treating': 1965, 'innovate': 1966, 'speculating': 1967, 'filming': 1968, 'cinematographic': 1969, 'startup': 1970, 'graphical': 1971, 'printed': 1972, 'probabilistic': 1973, 'construct': 1974, 'likelihood': 1975, 'debug': 1976, 'eclipse': 1977, 'solved': 1978, 'procedural': 1979, 'reliability': 1980, 'bioscience': 1981, 'join': 1982, 'freely': 1983, 'advisor': 1984, 'autonomously': 1985, 'member': 1986, 'culmination': 1987, 'prof': 1988, 'lasting': 1989, 'month': 1990, 'academia': 1991, 'enhancing': 1992, 'independently': 1993, 'imagination': 1994, 'curiosity': 1995, 'hep': 1996, 'didactic': 1997, 'debugging': 1998, 'larger': 1999, 'proposition': 2000, 'ma': 2001, 'improving': 2002, 'perceive': 2003, 'intervene': 2004, 'conduct': 2005, 'currently': 2006, 'zero': 2007, 'reactive': 2008, 'structuring': 2009, 'comic': 2010, 'recycling': 2011, 'religion': 2012, 'belief': 2013, 'collective': 2014, 'incl': 2015, 'drainage': 2016, 'heating': 2017, 'rheology': 2018, 'viscoelastic': 2019, 'fossil': 2020, 'rare': 2021, 'catastrophic': 2022, 'robotic': 2023, 'packaging': 2024, 'separately': 2025, 'invited': 2026, 'nonparametric': 2027, 'sanitation': 2028, 'miniaturization': 2029, 'fiction': 2030, 'creationists': 2031, 'believer': 2032, 'enemy': 2033, 'faith': 2034, 'atheist': 2035, 'agnostic': 2036, 'dealt': 2037, 'fabric': 2038, 'contributing': 2039, 'incertitude': 2040, 'listen': 2041, 'testimony': 2042, 'collectively': 2043, 'developmental': 2044, 'asking': 2045, 'summary': 2046, 'referee': 2047, 'instruct': 2048, 'causal': 2049, 'regenerative': 2050, 'diagnostics': 2051, 'instrumentation': 2052, 'expert': 2053, 'talk': 2054, 'attitude': 2055, 'smart': 2056, 'physiological': 2057, 'hypothesis': 2058, 'numerous': 2059, 'communicating': 2060, 'z': 2061, 'slope': 2062, 'resulting': 2063, 'decathlon': 2064, 'inelastic': 2065, 'excellent': 2066, 'mission': 2067, 'abroad': 2068, 'highlighted': 2069, 'decided': 2070, 'tailored': 2071, 'filtering': 2072, 'concise': 2073, 'react': 2074, 'carbonyl': 2075, 'accordance': 2076, 'boolean': 2077, 'regulator': 2078, 'included': 2079, 'underlie': 2080, 'line': 2081, 'produced': 2082, 'involvement': 2083, 'doctrine': 2084, 'avant': 2085, 'criticize': 2086, 'synthesizing': 2087, 'existential': 2088, 'critique': 2089, 'discourse': 2090, 'blanc': 2091, 'assembling': 2092, 'provoke': 2093, 'metaphysical': 2094, 'corner': 2095, 'cascade': 2096, 'twice': 2097, 'sub': 2098, 'underground': 2099, 'sculpting': 2100, 'sublimate': 2101, 'redirect': 2102, 'inward': 2103, 'generate': 2104, 'atelier': 2105, 'programmatic': 2106, 'typology': 2107, 'pursued': 2108, 'conceive': 2109, 'coherently': 2110, 'rammed': 2111, 'superseded': 2112, 'industrially': 2113, 'untapped': 2114, 'iconic': 2115, 'modernity': 2116, 'respecting': 2117, 'urgent': 2118, 'rebuilding': 2119, 'rail': 2120, 'corridor': 2121, 'station': 2122, 'focal': 2123, 'diffuse': 2124, 'meaningful': 2125, 'vibrant': 2126, 'park': 2127, 'hub': 2128, 'facade': 2129, 'inner': 2130, 'apartment': 2131, 'mixture': 2132, 'accompanied': 2133, 'hour': 2134, 'institution': 2135, 'ups': 2136, 'transducer': 2137, 'reflection': 2138, 'renovation': 2139, 'constructing': 2140, 'named': 2141, 'sensitive': 2142, 'sensible': 2143, 'unsupervised': 2144, 'reinforcement': 2145}\n"
     ]
    }
   ],
   "source": [
    "# displaying the ids corresponding to each word in dictionary\n",
    "print(dictionary.token2id)"
   ]
  },
  {
   "cell_type": "code",
   "execution_count": 36,
   "metadata": {
    "collapsed": false
   },
   "outputs": [
    {
     "name": "stdout",
     "output_type": "stream",
     "text": [
      "[(0, 2), (1, 1), (2, 1), (3, 1), (4, 1), (5, 1), (6, 2), (7, 1), (8, 1), (9, 1), (10, 1)]\n"
     ]
    }
   ],
   "source": [
    "# converting the corpus into bag of words \n",
    "corpus_bow = [dictionary.doc2bow(course) for course in ready_corpus]\n",
    "\n",
    "# save to disk for future use\n",
    "corpora.MmCorpus.serialize('courses_bow.mm', corpus_bow)\n",
    "for doc in corpus_bow:\n",
    "    print(doc)\n",
    "    break"
   ]
  },
  {
   "cell_type": "code",
   "execution_count": 44,
   "metadata": {
    "collapsed": false
   },
   "outputs": [
    {
     "name": "stdout",
     "output_type": "stream",
     "text": [
      "files generated from previous parts\n"
     ]
    }
   ],
   "source": [
    "#generating file of bag of words\n",
    "import os\n",
    "from gensim import corpora, models, similarities, matutils\n",
    "\n",
    "# load bow representation of corpus\n",
    "if (os.path.exists('courses_bow.mm')):\n",
    "    corpus_bow = corpora.MmCorpus('courses_bow.mm')\n",
    "    print(\"files generated from previous parts\")\n",
    "else:\n",
    "    print(\"Please run previous parts to generate data sets\")"
   ]
  },
  {
   "cell_type": "code",
   "execution_count": 39,
   "metadata": {
    "collapsed": true
   },
   "outputs": [],
   "source": [
    "# transforming bow representation of corpus to tfidf representation\n",
    "\n",
    "# initializing a model (aka training the model)\n",
    "tfidf_transformer = models.TfidfModel(corpus_bow, normalize=True)\n",
    "\n",
    "# applying tfidf transformation to the bow corpus\n",
    "corpus_tfidf = tfidf_transformer [corpus_bow]"
   ]
  },
  {
   "cell_type": "code",
   "execution_count": 40,
   "metadata": {
    "collapsed": false
   },
   "outputs": [
    {
     "data": {
      "text/plain": [
       "1595"
      ]
     },
     "execution_count": 40,
     "metadata": {},
     "output_type": "execute_result"
    }
   ],
   "source": [
    "corpus_tfidf.corpus.num_docs\n"
   ]
  },
  {
   "cell_type": "code",
   "execution_count": 41,
   "metadata": {
    "collapsed": false
   },
   "outputs": [
    {
     "name": "stdout",
     "output_type": "stream",
     "text": [
      "[(0, 0.6653171869457821), (1, 0.23946503329622731), (2, 0.17141079765920264), (3, 0.03684301187134437), (4, 0.16089010964015749), (5, 0.24345021131681524), (6, 0.44114189716600716), (7, 0.20307549926838248), (8, 0.13545704887354398), (9, 0.2870381766820611), (10, 0.21801715055020168)]\n"
     ]
    }
   ],
   "source": [
    "for doc in corpus_tfidf:\n",
    "    print(doc)\n",
    "    break"
   ]
  },
  {
   "cell_type": "code",
   "execution_count": 42,
   "metadata": {
    "collapsed": false
   },
   "outputs": [
    {
     "name": "stdout",
     "output_type": "stream",
     "text": [
      "10  nearest neighbors of the course \" Advanced algorithms \"\n",
      "-----------------------------------------------------------------------------\n",
      "0 :\" Advanced algorithms \" with cosine similarity score of  1.0\n",
      "1 :\" Algorithms \" with cosine similarity score of  0.409813\n",
      "2 :\" Advanced numerical analysis \" with cosine similarity score of  0.293105\n",
      "3 :\" Concurrent algorithms \" with cosine similarity score of  0.260938\n",
      "4 :\" Principles of computer systems \" with cosine similarity score of  0.260742\n",
      "5 :\" Introduction ‡ l'optimisation et ‡ la recherche opÈrationnelle \" with cosine similarity score of  0.250594\n",
      "6 :\" Programmation I \" with cosine similarity score of  0.23395\n",
      "7 :\" Analytic algorithms \" with cosine similarity score of  0.205095\n",
      "8 :\" A Network Tour of Data Science \" with cosine similarity score of  0.204081\n",
      "9 :\" Machine learning programming \" with cosine similarity score of  0.200201\n"
     ]
    }
   ],
   "source": [
    "# report k nearest nighbors of a focal course\n",
    "index = similarities.MatrixSimilarity(corpus_tfidf)\n",
    "focal_course_idx = 1\n",
    "k = 10\n",
    "i = 0\n",
    "sims = index[corpus_tfidf[focal_course_idx]]\n",
    "sims_sorted = sorted(enumerate(sims), key=lambda item: -item[1])\n",
    "\n",
    "print (k, ' nearest neighbors of the course \"', df_name_refined[focal_course_idx] ,'\"')\n",
    "print ('-----------------------------------------------------------------------------')\n",
    "for item in sims_sorted:\n",
    "    if (i<k):\n",
    "        print (i, ':\"', df_name_refined[item[0]], '\" with cosine similarity score of ', item[1])\n",
    "        i = i + 1"
   ]
  },
  {
   "cell_type": "code",
   "execution_count": null,
   "metadata": {
    "collapsed": true
   },
   "outputs": [],
   "source": []
  }
 ],
 "metadata": {
  "kernelspec": {
   "display_name": "Python 3",
   "language": "python",
   "name": "python3"
  },
  "language_info": {
   "codemirror_mode": {
    "name": "ipython",
    "version": 3
   },
   "file_extension": ".py",
   "mimetype": "text/x-python",
   "name": "python",
   "nbconvert_exporter": "python",
   "pygments_lexer": "ipython3",
   "version": "3.6.0"
  }
 },
 "nbformat": 4,
 "nbformat_minor": 2
}
